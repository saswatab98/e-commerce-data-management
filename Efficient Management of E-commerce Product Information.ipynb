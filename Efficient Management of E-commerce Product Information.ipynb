{
 "cells": [
  {
   "cell_type": "markdown",
   "metadata": {},
   "source": [
    "# Outline\n",
    "The overall objective of this project is to create a system for managing product information in an e-commerce platform. The different stages involved in the process are outlined below:\n",
    "\n",
    "- Stage 1 - Set up project and load data\n",
    "    - Task 1 - Import required modules\n",
    "    - Task 2 - Load the data\n",
    "- Stage 2 - Create or update data\n",
    "    - Task 3 - Add or update sales data\n",
    "    - Task 4 - Add or update product details\n",
    "    - Task 5 - Add or update product description\n",
    "    - Task 6 - Update function\n",
    "- Stage 3 - Save data to disk\n",
    "    - Task 7 - Save data to disk"
   ]
  },
  {
   "cell_type": "markdown",
   "metadata": {},
   "source": [
    "# Stage 1 - Set up project and load data\n",
    "In this stage, you will set up the environment for this assignment by loading the required modules and files. You will explore the files by displaying their content. You will achieve all of this by completing the following tasks:\n",
    "- Task 1 - Import required modules\n",
    "- Task 2 - Load the data"
   ]
  },
  {
   "cell_type": "code",
   "execution_count": 2,
   "metadata": {},
   "outputs": [],
   "source": [
    "import os\n",
    "import json\n",
    "import csv"
   ]
  },
  {
   "cell_type": "code",
   "execution_count": 1,
   "metadata": {},
   "outputs": [],
   "source": [
    "def load_data(main_folder):\n",
    "\n",
    "    # Define empty dictionaries to store our data\n",
    "    sales_data = {}\n",
    "    product_details = {}\n",
    "    product_descriptions = {}\n",
    "\n",
    "    # Load sales data from CSV file, mapping every SKU to a list of whole numbers for two weeks worth of sales data\n",
    "    csv_file_path = os.path.join(main_folder, 'sales_data.csv')\n",
    "    with open(csv_file_path, 'r') as csv_file:\n",
    "        csv_reader = csv.DictReader(csv_file)\n",
    "        for row in csv_reader:\n",
    "            sku = row['Product_SKU']  # this is the first column of the data, which can also be accessed as row[0]\n",
    "            quantities = [int(quantity) for quantity in list(row.values())[1:]]  # skip the first value (SKU) and convert the rest to integers\n",
    "            sales_data[sku] = quantities\n",
    "\n",
    "    # Load product details from JSON files\n",
    "    details_dir = os.path.join(main_folder, 'product_details')\n",
    "    for file_name in os.listdir(details_dir):\n",
    "        json_file_path = os.path.join(details_dir, file_name)\n",
    "        with open(json_file_path, 'r') as json_file:\n",
    "            # we can replace the \"_\" with \".\" and then split along \".\" to obtain the SKU at the first index\n",
    "            sku = file_name.replace(\"_\", \".\").split(\".\")[1]\n",
    "            product_details[sku] = json.load(json_file)\n",
    "\n",
    "    # Load product descriptions from TXT files\n",
    "    description_dir = os.path.join(main_folder, 'product_descriptions')\n",
    "    for file_name in os.listdir(description_dir):\n",
    "        txt_file_path = os.path.join(description_dir, file_name)\n",
    "        with open(txt_file_path, 'r') as txt_file:\n",
    "            sku = file_name.replace(\"_\", \".\").split(\".\")[1]\n",
    "            product_descriptions[sku] = txt_file.read()\n",
    "\n",
    "    return product_details, sales_data, product_descriptions"
   ]
  },
  {
   "cell_type": "code",
   "execution_count": 5,
   "metadata": {},
   "outputs": [],
   "source": [
    "main_folder_address = (r'C:\\Users\\User\\Desktop\\mainfolder\\mainfolder')\n",
    "product_details, sales_data, product_descriptions = load_data(main_folder_address)"
   ]
  },
  {
   "cell_type": "markdown",
   "metadata": {},
   "source": [
    "# Stage 2 - Update data\n",
    "In this stage, you will define a function `update()` to add sales data, product details, and product descriptions for a new product or update an existing product. If the product does not exist, the function will default to creating a new product. If the product exists, the function will instead update that product. You will also define some sub-functions to complete smaller tasks.\n",
    "\n",
    "You will achieve this by completing the following tasks:\n",
    "- Task 3 - Update sales data\n",
    "- Task 4 - Update product details\n",
    "- Task 5 - Update product description\n",
    "- Task 6 - Update function"
   ]
  },
  {
   "cell_type": "code",
   "execution_count": 2,
   "metadata": {},
   "outputs": [],
   "source": [
    "def update_sales_data(sales_data, sku, quantities):\n",
    "\n",
    "\n",
    "    # Directly add new entry to sales data dictionary\n",
    "    sales_data[sku] = quantities\n",
    "\n",
    "    return sales_data"
   ]
  },
  {
   "cell_type": "code",
   "execution_count": 7,
   "metadata": {},
   "outputs": [
    {
     "data": {
      "text/plain": [
       "{'AISJDKFJW93NJ': [10, 12, 15, 18, 20, 22, 25, 28, 26, 30, 32, 29, 27, 24],\n",
       " 'DJKFIEI432FIE': [8, 10, 12, 15, 20, 18, 14, 13, 17, 10, 8, 11, 14, 16],\n",
       " 'GGOENEBJ079499': [15, 18, 22, 25, 28, 20, 17, 23, 19, 21, 24, 27, 18, 20],\n",
       " 'HJSKNWK429DJE': [30, 32, 35, 38, 40, 42, 45, 48, 50, 52, 55, 53, 49, 47],\n",
       " 'JFKL3940NFKLJ': [18, 20, 22, 25, 28, 30, 32, 35, 38, 36, 33, 29, 26, 24],\n",
       " 'LKDFJ49LSDJKL': [25, 28, 30, 32, 35, 38, 42, 40, 37, 34, 36, 31, 29, 27],\n",
       " 'MWKDI3JFK39SL': [30, 35, 40, 45, 50, 42, 37, 38, 41, 36, 33, 39, 40, 44],\n",
       " 'NEKFJOWE9FDIW': [12, 15, 18, 20, 22, 24, 21, 23, 25, 28, 30, 27, 26, 29],\n",
       " 'OWEJL398FWJLK': [20, 22, 25, 28, 30, 32, 35, 38, 36, 33, 29, 26, 24, 27],\n",
       " 'XPLFJW2490XJN': [5, 8, 9, 12, 15, 10, 14, 16, 20, 18, 22, 25, 19, 21],\n",
       " 'CMWKCILOP27KF': [8, 14, 16, 7, 15, 21, 14, 16, 32, 29, 26, 30, 25, 22]}"
      ]
     },
     "execution_count": 7,
     "metadata": {},
     "output_type": "execute_result"
    }
   ],
   "source": [
    "sales_data = update_sales_data(sales_data,\n",
    "                            'CMWKCILOP27KF',\n",
    "                             [8, 14, 16, 7, 15, 21, 14, 16, 32, 29, 26, 30, 25, 22])\n",
    "sales_data"
   ]
  },
  {
   "cell_type": "code",
   "execution_count": 3,
   "metadata": {},
   "outputs": [],
   "source": [
    "def update_product_details(product_details, sku, product_info):\n",
    "\n",
    "\n",
    "    # Add the new product details to the product details dictionary using the SKU as the key\n",
    "    product_details[sku] = product_info\n",
    "\n",
    "    return product_details"
   ]
  },
  {
   "cell_type": "code",
   "execution_count": 9,
   "metadata": {},
   "outputs": [
    {
     "data": {
      "text/plain": [
       "{'AISJDKFJW93NJ': {'product_name': 'Wall Art Print',\n",
       "  'brand': 'ArtCraft',\n",
       "  'model': 'NatureCanvas-1001',\n",
       "  'specifications': 'Canvas print, Ready to hang',\n",
       "  'price': '$49.99',\n",
       "  'availability': 'In stock'},\n",
       " 'DJKFIEI432FIE': {'product_name': \"Men's Running Shoes\",\n",
       "  'brand': 'RunFit',\n",
       "  'model': 'SpeedX-500',\n",
       "  'specifications': 'Size 10, Lightweight design, Breathable material',\n",
       "  'price': '$79.99',\n",
       "  'availability': 'In stock'},\n",
       " 'GGOENEBJ079499': {'product_name': 'Smartphone',\n",
       "  'brand': 'XYZ Electronics',\n",
       "  'model': 'ABC-2000',\n",
       "  'specifications': '6.5-inch display, 128GB storage, 16MP camera',\n",
       "  'price': '$499.99',\n",
       "  'availability': 'In stock'},\n",
       " 'HJSKNWK429DJE': {'product_name': 'Wireless Earbuds',\n",
       "  'brand': 'SoundSync',\n",
       "  'model': 'TunePro-2022',\n",
       "  'specifications': 'Bluetooth 5.0, 20 hours battery life, Touch controls',\n",
       "  'price': '$89.99',\n",
       "  'availability': 'In stock'},\n",
       " 'JFKL3940NFKLJ': {'product_name': 'Resistance Bands Set',\n",
       "  'brand': 'FitFlex',\n",
       "  'model': 'StrengthPro-300',\n",
       "  'specifications': '5 bands, Varying resistance levels, Portable',\n",
       "  'price': '$34.99',\n",
       "  'availability': 'In stock'},\n",
       " 'LKDFJ49LSDJKL': {'product_name': 'Anti-Aging Face Cream',\n",
       "  'brand': 'GlowBeauty',\n",
       "  'model': 'AgeDefy-300',\n",
       "  'specifications': 'Natural ingredients, Hydrating formula',\n",
       "  'price': '$39.99',\n",
       "  'availability': 'In stock'},\n",
       " 'MWKDI3JFK39SL': {'product_name': 'Fictional Novel',\n",
       "  'brand': 'BestBooks',\n",
       "  'model': None,\n",
       "  'specifications': 'Paperback, 300 pages',\n",
       "  'price': '$14.99',\n",
       "  'availability': 'In stock'},\n",
       " 'NEKFJOWE9FDIW': {'product_name': 'Board Game',\n",
       "  'brand': 'FamilyFun',\n",
       "  'model': 'GameNight-2022',\n",
       "  'specifications': '2-6 players, Ages 8 and up',\n",
       "  'price': '$29.99',\n",
       "  'availability': 'In stock'},\n",
       " 'OWEJL398FWJLK': {'product_name': 'Yoga Mat',\n",
       "  'brand': 'ZenFitness',\n",
       "  'model': 'EcoMat-500',\n",
       "  'specifications': 'Non-slip, 6mm thickness, Eco-friendly material',\n",
       "  'price': '$19.99',\n",
       "  'availability': 'In stock'},\n",
       " 'XPLFJW2490XJN': {'product_name': 'Robot Vacuum Cleaner',\n",
       "  'brand': 'CleanTech',\n",
       "  'model': 'AutoSweep-9000',\n",
       "  'specifications': 'Smart navigation, HEPA filter, 90 minutes runtime',\n",
       "  'price': '$249.99',\n",
       "  'availability': 'In stock'},\n",
       " 'CMWKCILOP27KF': {'product_name': 'Pokemon Card',\n",
       "  'brand': 'GameFreak',\n",
       "  'model': 'ScarletViolet151',\n",
       "  'specifications': 'Genuine, TCG, English',\n",
       "  'price': '$1.99',\n",
       "  'availability': 'In stock'}}"
      ]
     },
     "execution_count": 9,
     "metadata": {},
     "output_type": "execute_result"
    }
   ],
   "source": [
    "product_details = update_product_details(product_details,\n",
    "                                 'CMWKCILOP27KF',\n",
    "                                  {'product_name': 'Pokemon Card',\n",
    "                                   'brand': 'GameFreak',\n",
    "                                   'model': 'ScarletViolet151',\n",
    "                                   'specifications': 'Genuine, TCG, English',\n",
    "                                   'price': '$1.99',\n",
    "                                   'availability': 'In stock'})\n",
    "product_details"
   ]
  },
  {
   "cell_type": "code",
   "execution_count": 4,
   "metadata": {},
   "outputs": [],
   "source": [
    "def update_product_description(product_descriptions, sku, description):\n",
    "\n",
    "\n",
    "    # Add the new product description to the dictionary\n",
    "    product_descriptions[sku] = description\n",
    "\n",
    "    return product_descriptions"
   ]
  },
  {
   "cell_type": "code",
   "execution_count": 11,
   "metadata": {},
   "outputs": [
    {
     "data": {
      "text/plain": [
       "{'AISJDKFJW93NJ': \"Transform your living space with ArtCraft's NatureCanvas-1001 Wall Art Print.\\nThis canvas print, ready to hang, brings the beauty of nature into your home.\\nWith dimensions of 16 x 20 inches and a 4.6/5 stars rating, it's a stunning addition to your decor, creating a focal point that captures attention and sparks conversation.\",\n",
       " 'DJKFIEI432FIE': \"Elevate your running experience with the RunFit SpeedX-500 Men's Running Shoes.\\nDesigned for performance, these shoes feature a lightweight design, breathable material, and are available in vibrant Red, Blue, and classic Black.\\nWhether you're a seasoned runner or just starting, these shoes provide comfort and support for every stride, ensuring you reach new milestones effortlessly.\",\n",
       " 'GGOENEBJ079499': 'Dive into the future with the XYZ Electronics Smartphone, model ABC-2000.\\nBoasting a 6.5-inch display, 128GB storage, and a 16MP camera, this powerful device redefines the smartphone experience.\\nWith a sleek design and available in Black, Silver, and Blue, it combines cutting-edge technology with style, ensuring you stay connected in the most sophisticated way possible.',\n",
       " 'HJSKNWK429DJE': \"Immerse yourself in superior audio quality with SoundSync's TunePro-2022 Wireless Earbuds.\\nFeaturing Bluetooth 5.0, 20 hours of battery life, and touch controls, these earbuds deliver a seamless and immersive listening experience.\\nAvailable in Black and White, they combine style with functionality for music lovers on the go. \\nWith a 4.7/5 stars rating, they stand out as a top choice in the realm of wireless audio.\",\n",
       " 'JFKL3940NFKLJ': \"Embrace versatility in your workouts with FitFlex's StrengthPro-300 Resistance Bands Set.\\nWith 5 bands offering varying resistance levels and portability, this set is your go-to for effective strength training.\\nAvailable in Red, Yellow, and Blue, it caters to different fitness levels and adds a dynamic dimension to your exercise routine.\",\n",
       " 'LKDFJ49LSDJKL': \"Rediscover youthful radiance with GlowBeauty's AgeDefy-300 Anti-Aging Face Cream.\\nFormulated with natural ingredients and a hydrating formula, this skincare essential rejuvenates and nourishes your skin, leaving you with a vibrant and refreshed complexion.\\nWith a stellar 4.7/5 stars rating, it's a must-have for those embracing the journey to ageless beauty.\",\n",
       " 'MWKDI3JFK39SL': \"Immerse yourself in the world of storytelling with BestBooks' Fictional Novel.\\nThis paperback, spanning 300 pages, promises a captivating journey through the pages of an engaging narrative.\\nIdeal for avid readers seeking an escape, this novel, with a 4.6/5 stars rating, is a testament to its ability to weave a compelling tale that keeps you hooked until the last page.\",\n",
       " 'NEKFJOWE9FDIW': \"Unleash the fun with FamilyFun's GameNight-2022 Board Game.\\nDesigned for 2-6 players and suitable for ages 8 and up, this exciting game promises laughter and bonding moments for the entire family.\\nWith a 4.4/5 stars rating, it's a testament to its ability to turn any ordinary night into an extraordinary game night filled with friendly competition and shared joy.\",\n",
       " 'OWEJL398FWJLK': \"Elevate your yoga practice with ZenFitness' EcoMat-500 Yoga Mat.\\nFeaturing a non-slip surface, 6mm thickness, and eco-friendly materials, this high-quality mat provides the perfect foundation for your workouts.\\nAvailable in Purple, Green, and Blue, it not only enhances your comfort but also adds a touch of serenity to your exercise routine.\",\n",
       " 'XPLFJW2490XJN': 'Introducing the CleanTech AutoSweep-9000 Robot Vacuum Cleaner â€“ your smart companion for automated cleaning.\\nWith smart navigation, a HEPA filter, and a runtime of 90 minutes, this efficient device takes care of your cleaning needs.\\nAvailable in White and Silver, it blends seamlessly into your home, making cleanliness a hassle-free experience.',\n",
       " 'CMWKCILOP27KF': 'Original Pokemon TCG Pikachu card'}"
      ]
     },
     "execution_count": 11,
     "metadata": {},
     "output_type": "execute_result"
    }
   ],
   "source": [
    "product_descriptions = update_product_description(product_descriptions,\n",
    "                                      'CMWKCILOP27KF',\n",
    "                                      'Original Pokemon TCG Pikachu card')\n",
    "product_descriptions"
   ]
  },
  {
   "cell_type": "code",
   "execution_count": 5,
   "metadata": {},
   "outputs": [],
   "source": [
    "def update(product_details, sales_data, product_descriptions):\n",
    "\n",
    "\n",
    "    sku = input('Enter the product SKU: ')\n",
    "    if len(sku) != 13:\n",
    "        print('Invalid SKU. The SKU must be exactly 13 characters long.')\n",
    "        return product_details, sales_data, product_descriptions\n",
    "\n",
    "    sales_input = input('Enter sales data for the last 14 days, separated by space: ')\n",
    "    sales_quantities = sales_input.split()\n",
    "    if not (len(sales_quantities) == 14 and all(x.isdigit() for x in sales_quantities)) and all(x>=0 for x in sales_quantities):\n",
    "        print('Invalid sales data. Please ensure you enter exactly 14 whole numbers.')\n",
    "        return product_details, sales_data, product_descriptions\n",
    "    sales_quantities = [int(x) for x in sales_quantities]\n",
    "\n",
    "    product_name = input('Enter the product name: ')\n",
    "    brand = input('Enter the brand: ')\n",
    "    model = input('Enter the model: ')\n",
    "    specifications = input('Enter the specifications: ')\n",
    "    price = input('Enter the price: ')\n",
    "    availability = input('Enter the availability: ')\n",
    "    product_info = {\n",
    "        'product_name': product_name,\n",
    "        'brand': brand,\n",
    "        'model': model,\n",
    "        'specifications': specifications,\n",
    "        'price': price,\n",
    "        'availability': availability\n",
    "    }\n",
    "\n",
    "    description = input('Enter the product description: ')\n",
    "\n",
    "    # Assuming all inputs are now valid, call the functions to add the data\n",
    "    sales_data = update_sales_data(sales_data, sku, sales_quantities)\n",
    "    product_details = update_product_details(product_details, sku, product_info)\n",
    "    product_descriptions = update_product_description(product_descriptions, sku, description)\n",
    "\n",
    "    # Print a single success message after all data has been successfully added\n",
    "    print('All product information for the new product was added successfully!')\n",
    "\n",
    "    return product_details, sales_data, product_descriptions"
   ]
  },
  {
   "cell_type": "code",
   "execution_count": null,
   "metadata": {},
   "outputs": [],
   "source": [
    "product_details, sales_data, product_descriptions = update(product_details, sales_data, product_descriptions)"
   ]
  },
  {
   "cell_type": "markdown",
   "metadata": {},
   "source": [
    "# Stage 3 - Save data to disk\n",
    "In the this stage, learners are tasked with creating a `dump_data()` function which will allow the newly modified files to be saved in their corresponding file formats: CSV for sales data, JSON for product details, and plain text (.txt) for product descriptions.\n",
    "\n",
    "You will achieve this by completing the following task:\n",
    "- Task 7 - Save data to disk"
   ]
  },
  {
   "cell_type": "code",
   "execution_count": 6,
   "metadata": {},
   "outputs": [],
   "source": [
    "def dump_data(sales_data, product_details, product_descriptions, main_folder):\n",
    "\n",
    "    # Dump sales data to CSV file\n",
    "    csv_file_path = os.path.join(main_folder, 'sales_data.csv')\n",
    "    with open(csv_file_path, 'w') as csv_file:\n",
    "        fieldnames = ['Product_SKU', *map(str, range(1, 15))]  # field names for SKU and 14 days as strings\n",
    "        csv_writer = csv.DictWriter(csv_file, fieldnames=fieldnames)\n",
    "        csv_writer.writeheader()\n",
    "        for sku, quantities in sales_data.items():\n",
    "            row = {'Product_SKU': sku}\n",
    "            for i, q in enumerate(quantities, start=1):\n",
    "                row[str(i)] = q\n",
    "            csv_writer.writerow(row)\n",
    "\n",
    "    # Dump product details to JSON files\n",
    "    details_dir = os.path.join(main_folder, 'product_details')\n",
    "    if not os.path.exists(details_dir):\n",
    "        os.makedirs(details_dir)\n",
    "    for sku, details in product_details.items():\n",
    "        json_file_path = os.path.join(details_dir, f'details_{sku}.json')\n",
    "        with open(json_file_path, 'w') as json_file:\n",
    "            json.dump(details, json_file)\n",
    "\n",
    "    # Dump product descriptions to TXT files\n",
    "    description_dir = os.path.join(main_folder, 'product_descriptions')\n",
    "    if not os.path.exists(description_dir):\n",
    "        os.makedirs(description_dir)\n",
    "    for sku, description in product_descriptions.items():\n",
    "        txt_file_path = os.path.join(description_dir, f'description_{sku}.txt')\n",
    "        with open(txt_file_path, 'w') as txt_file:\n",
    "            txt_file.write(description)"
   ]
  },
  {
   "cell_type": "code",
   "execution_count": 16,
   "metadata": {},
   "outputs": [],
   "source": [
    "dump_data(sales_data, product_details, product_descriptions, main_folder_address)"
   ]
  },
  {
   "cell_type": "code",
   "execution_count": null,
   "metadata": {},
   "outputs": [],
   "source": []
  }
 ],
 "metadata": {
  "kernelspec": {
   "display_name": "Python 3",
   "language": "python",
   "name": "python3"
  },
  "language_info": {
   "codemirror_mode": {
    "name": "ipython",
    "version": 3
   },
   "file_extension": ".py",
   "mimetype": "text/x-python",
   "name": "python",
   "nbconvert_exporter": "python",
   "pygments_lexer": "ipython3",
   "version": "3.11.9"
  }
 },
 "nbformat": 4,
 "nbformat_minor": 2
}
